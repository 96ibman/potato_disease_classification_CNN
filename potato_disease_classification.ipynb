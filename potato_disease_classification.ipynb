{
 "cells": [
  {
   "cell_type": "code",
   "execution_count": 15,
   "id": "519f92a2",
   "metadata": {},
   "outputs": [],
   "source": [
    "from keras.models import Sequential\n",
    "from keras.layers import Dense, Activation, Flatten, Conv2D\n",
    "from keras.layers.convolutional import MaxPooling2D\n",
    "from keras.preprocessing.image import ImageDataGenerator\n",
    "import pandas as pd\n",
    "import numpy as np"
   ]
  },
  {
   "cell_type": "code",
   "execution_count": 45,
   "id": "80926c87",
   "metadata": {},
   "outputs": [],
   "source": [
    "IMAGE_SIZE = 256\n",
    "CHANNELS = 3\n",
    "BATCH_SIZE = 32\n",
    "EPOCHS = 15"
   ]
  },
  {
   "cell_type": "code",
   "execution_count": 31,
   "id": "5ee5f674",
   "metadata": {},
   "outputs": [],
   "source": [
    "train = ImageDataGenerator(rescale = 1./255)\n",
    "validation = ImageDataGenerator(rescale = 1./255)"
   ]
  },
  {
   "cell_type": "code",
   "execution_count": 32,
   "id": "90d210d9",
   "metadata": {},
   "outputs": [],
   "source": [
    "TRAIN_PATH = \"D:/potato_disease_classification/datasplitted/train\"\n",
    "VAL_PATH = \"D:/potato_disease_classification/datasplitted/val\""
   ]
  },
  {
   "cell_type": "code",
   "execution_count": 33,
   "id": "fa3f5e67",
   "metadata": {},
   "outputs": [
    {
     "name": "stdout",
     "output_type": "stream",
     "text": [
      "Found 1506 images belonging to 3 classes.\n"
     ]
    }
   ],
   "source": [
    "train_data = train.flow_from_directory(TRAIN_PATH, \n",
    "                                       target_size=(IMAGE_SIZE,IMAGE_SIZE), \n",
    "                                       batch_size=BATCH_SIZE, \n",
    "                                       class_mode=\"categorical\",\n",
    "                                       seed=2022)"
   ]
  },
  {
   "cell_type": "code",
   "execution_count": 34,
   "id": "f2d8f724",
   "metadata": {},
   "outputs": [
    {
     "name": "stdout",
     "output_type": "stream",
     "text": [
      "Found 430 images belonging to 3 classes.\n"
     ]
    }
   ],
   "source": [
    "val_data = validation.flow_from_directory(VAL_PATH, \n",
    "                                       target_size=(IMAGE_SIZE,IMAGE_SIZE), \n",
    "                                       batch_size=BATCH_SIZE, \n",
    "                                       class_mode=\"categorical\",\n",
    "                                       seed=2022)"
   ]
  },
  {
   "cell_type": "code",
   "execution_count": 35,
   "id": "62fc15f7",
   "metadata": {},
   "outputs": [
    {
     "data": {
      "text/plain": [
       "{'early_blight': 0, 'healthy': 1, 'late_blight': 2}"
      ]
     },
     "execution_count": 35,
     "metadata": {},
     "output_type": "execute_result"
    }
   ],
   "source": [
    "train_data.class_indices"
   ]
  },
  {
   "cell_type": "code",
   "execution_count": 46,
   "id": "e4b59aeb",
   "metadata": {},
   "outputs": [],
   "source": [
    "model = Sequential(\n",
    "    [\n",
    "        Conv2D(32,(3,3), activation='relu', input_shape=(IMAGE_SIZE,IMAGE_SIZE,CHANNELS)),\n",
    "        MaxPooling2D(2,2),\n",
    "        Conv2D(64,(3,3), activation='relu'),\n",
    "        MaxPooling2D(2,2),\n",
    "        Conv2D(64,(3,3), activation='relu'),\n",
    "        MaxPooling2D(2,2),\n",
    "        Conv2D(64,(3,3), activation='relu'),\n",
    "        MaxPooling2D(2,2),\n",
    "        Conv2D(64,(3,3), activation='relu'),\n",
    "        MaxPooling2D(2,2),\n",
    "        Conv2D(64,(3,3), activation='relu'),\n",
    "        MaxPooling2D(2,2),\n",
    "        Flatten(),\n",
    "        Dense(64, activation='relu'), \n",
    "        Dense(3, activation='softmax')  \n",
    "    ]\n",
    ")"
   ]
  },
  {
   "cell_type": "code",
   "execution_count": 38,
   "id": "7cf5b8ab",
   "metadata": {},
   "outputs": [
    {
     "name": "stdout",
     "output_type": "stream",
     "text": [
      "Model: \"sequential_3\"\n",
      "_________________________________________________________________\n",
      " Layer (type)                Output Shape              Param #   \n",
      "=================================================================\n",
      " conv2d_15 (Conv2D)          (None, 254, 254, 32)      896       \n",
      "                                                                 \n",
      " max_pooling2d_15 (MaxPoolin  (None, 127, 127, 32)     0         \n",
      " g2D)                                                            \n",
      "                                                                 \n",
      " conv2d_16 (Conv2D)          (None, 125, 125, 64)      18496     \n",
      "                                                                 \n",
      " max_pooling2d_16 (MaxPoolin  (None, 62, 62, 64)       0         \n",
      " g2D)                                                            \n",
      "                                                                 \n",
      " conv2d_17 (Conv2D)          (None, 60, 60, 64)        36928     \n",
      "                                                                 \n",
      " max_pooling2d_17 (MaxPoolin  (None, 30, 30, 64)       0         \n",
      " g2D)                                                            \n",
      "                                                                 \n",
      " conv2d_18 (Conv2D)          (None, 28, 28, 64)        36928     \n",
      "                                                                 \n",
      " max_pooling2d_18 (MaxPoolin  (None, 14, 14, 64)       0         \n",
      " g2D)                                                            \n",
      "                                                                 \n",
      " conv2d_19 (Conv2D)          (None, 12, 12, 64)        36928     \n",
      "                                                                 \n",
      " max_pooling2d_19 (MaxPoolin  (None, 6, 6, 64)         0         \n",
      " g2D)                                                            \n",
      "                                                                 \n",
      " conv2d_20 (Conv2D)          (None, 4, 4, 64)          36928     \n",
      "                                                                 \n",
      " max_pooling2d_20 (MaxPoolin  (None, 2, 2, 64)         0         \n",
      " g2D)                                                            \n",
      "                                                                 \n",
      " flatten_3 (Flatten)         (None, 256)               0         \n",
      "                                                                 \n",
      " dense_5 (Dense)             (None, 64)                16448     \n",
      "                                                                 \n",
      " dense_6 (Dense)             (None, 3)                 195       \n",
      "                                                                 \n",
      "=================================================================\n",
      "Total params: 183,747\n",
      "Trainable params: 183,747\n",
      "Non-trainable params: 0\n",
      "_________________________________________________________________\n"
     ]
    }
   ],
   "source": [
    "model.summary()"
   ]
  },
  {
   "cell_type": "code",
   "execution_count": 47,
   "id": "49517290",
   "metadata": {},
   "outputs": [],
   "source": [
    "model.compile(loss='categorical_crossentropy', optimizer='Adam', metrics=['accuracy'])"
   ]
  },
  {
   "cell_type": "code",
   "execution_count": 48,
   "id": "656a6688",
   "metadata": {},
   "outputs": [
    {
     "name": "stdout",
     "output_type": "stream",
     "text": [
      "Epoch 1/15\n",
      "47/47 [==============================] - 4s 77ms/step - loss: 0.9246 - accuracy: 0.4714 - val_loss: 0.8464 - val_accuracy: 0.4977\n",
      "Epoch 2/15\n",
      "47/47 [==============================] - 3s 73ms/step - loss: 0.7033 - accuracy: 0.6660 - val_loss: 0.5062 - val_accuracy: 0.7767\n",
      "Epoch 3/15\n",
      "47/47 [==============================] - 3s 73ms/step - loss: 0.3984 - accuracy: 0.8413 - val_loss: 0.3674 - val_accuracy: 0.8721\n",
      "Epoch 4/15\n",
      "47/47 [==============================] - 3s 74ms/step - loss: 0.2899 - accuracy: 0.8831 - val_loss: 0.2891 - val_accuracy: 0.8930\n",
      "Epoch 5/15\n",
      "47/47 [==============================] - 3s 73ms/step - loss: 0.1754 - accuracy: 0.9323 - val_loss: 0.1652 - val_accuracy: 0.9442\n",
      "Epoch 6/15\n",
      "47/47 [==============================] - 3s 74ms/step - loss: 0.1501 - accuracy: 0.9456 - val_loss: 0.1031 - val_accuracy: 0.9605\n",
      "Epoch 7/15\n",
      "47/47 [==============================] - 3s 73ms/step - loss: 0.1163 - accuracy: 0.9602 - val_loss: 0.2228 - val_accuracy: 0.9209\n",
      "Epoch 8/15\n",
      "47/47 [==============================] - 3s 73ms/step - loss: 0.1688 - accuracy: 0.9363 - val_loss: 0.1301 - val_accuracy: 0.9465\n",
      "Epoch 9/15\n",
      "47/47 [==============================] - 3s 73ms/step - loss: 0.1631 - accuracy: 0.9449 - val_loss: 0.7089 - val_accuracy: 0.7535\n",
      "Epoch 10/15\n",
      "47/47 [==============================] - 3s 73ms/step - loss: 0.2069 - accuracy: 0.9223 - val_loss: 0.0960 - val_accuracy: 0.9651\n",
      "Epoch 11/15\n",
      "47/47 [==============================] - 3s 73ms/step - loss: 0.0522 - accuracy: 0.9807 - val_loss: 0.0965 - val_accuracy: 0.9744\n",
      "Epoch 12/15\n",
      "47/47 [==============================] - 3s 73ms/step - loss: 0.0966 - accuracy: 0.9628 - val_loss: 0.0931 - val_accuracy: 0.9698\n",
      "Epoch 13/15\n",
      "47/47 [==============================] - 3s 74ms/step - loss: 0.0398 - accuracy: 0.9861 - val_loss: 0.0727 - val_accuracy: 0.9698\n",
      "Epoch 14/15\n",
      "47/47 [==============================] - 3s 73ms/step - loss: 0.0133 - accuracy: 0.9960 - val_loss: 0.2210 - val_accuracy: 0.9442\n",
      "Epoch 15/15\n",
      "47/47 [==============================] - 3s 74ms/step - loss: 0.0373 - accuracy: 0.9880 - val_loss: 0.0754 - val_accuracy: 0.9721\n"
     ]
    }
   ],
   "source": [
    "history = model.fit(train_data,\n",
    "                    steps_per_epoch = 1506/BATCH_SIZE,\n",
    "                    batch_size = BATCH_SIZE,\n",
    "                    epochs = EPOCHS,\n",
    "                    validation_data = val_data\n",
    "                   )"
   ]
  },
  {
   "cell_type": "code",
   "execution_count": 49,
   "id": "0add0802",
   "metadata": {},
   "outputs": [
    {
     "data": {
      "text/plain": [
       "dict_keys(['loss', 'accuracy', 'val_loss', 'val_accuracy'])"
      ]
     },
     "execution_count": 49,
     "metadata": {},
     "output_type": "execute_result"
    }
   ],
   "source": [
    "history.history.keys()"
   ]
  },
  {
   "cell_type": "code",
   "execution_count": 50,
   "id": "f12d45db",
   "metadata": {},
   "outputs": [],
   "source": [
    "acc = history.history['accuracy']\n",
    "val_acc = history.history['val_accuracy']\n",
    "\n",
    "loss = history.history['loss']\n",
    "val_loss = history.history['val_loss']"
   ]
  },
  {
   "cell_type": "code",
   "execution_count": 52,
   "id": "e6c201e3",
   "metadata": {},
   "outputs": [
    {
     "data": {
      "image/png": "[encoded data removed]",
      "text/plain": [
       "<Figure size 432x288 with 1 Axes>"
      ]
     },
     "metadata": {
      "needs_background": "light"
     },
     "output_type": "display_data"
    }
   ],
   "source": [
    "import matplotlib.pyplot as plt\n",
    "plt.plot(range(EPOCHS), acc, label=\"Training Accuracy\")\n",
    "plt.plot(range(EPOCHS), val_acc, label=\"Validation Accuracy\")\n",
    "plt.legend()\n",
    "plt.title(\"Training and Validaiton Accuracy\")\n",
    "plt.show()"
   ]
  },
  {
   "cell_type": "code",
   "execution_count": 53,
   "id": "dc651c48",
   "metadata": {},
   "outputs": [
    {
     "data": {
      "image/png": "[encoded data removed]",
      "text/plain": [
       "<Figure size 432x288 with 1 Axes>"
      ]
     },
     "metadata": {
      "needs_background": "light"
     },
     "output_type": "display_data"
    }
   ],
   "source": [
    "plt.plot(range(EPOCHS), loss, label=\"Training Loss\")\n",
    "plt.plot(range(EPOCHS), val_loss, label=\"Validation Loss\")\n",
    "plt.legend()\n",
    "plt.title(\"Training and Validaiton Loss\")\n",
    "plt.show()"
   ]
  },
  {
   "cell_type": "code",
   "execution_count": 55,
   "id": "a0117693",
   "metadata": {},
   "outputs": [
    {
     "name": "stderr",
     "output_type": "stream",
     "text": [
      "WARNING:absl:Found untraced functions such as _jit_compiled_convolution_op, _jit_compiled_convolution_op, _jit_compiled_convolution_op, _jit_compiled_convolution_op, _jit_compiled_convolution_op while saving (showing 5 of 6). These functions will not be directly callable after loading.\n"
     ]
    },
    {
     "name": "stdout",
     "output_type": "stream",
     "text": [
      "INFO:tensorflow:Assets written to: D:/potato_disease_classification/model/1\\assets\n"
     ]
    },
    {
     "name": "stderr",
     "output_type": "stream",
     "text": [
      "INFO:tensorflow:Assets written to: D:/potato_disease_classification/model/1\\assets\n"
     ]
    }
   ],
   "source": [
    "version=1\n",
    "model.save(f\"D:/potato_disease_classification/model/{version}\")"
   ]
  }
 ],
 "metadata": {
  "kernelspec": {
   "display_name": "python 3.9 (tensorflow)",
   "language": "python",
   "name": "base"
  },
  "language_info": {
   "codemirror_mode": {
    "name": "ipython",
    "version": 3
   },
   "file_extension": ".py",
   "mimetype": "text/x-python",
   "name": "python",
   "nbconvert_exporter": "python",
   "pygments_lexer": "ipython3",
   "version": "3.9.12"
  }
 },
 "nbformat": 4,
 "nbformat_minor": 5
}
